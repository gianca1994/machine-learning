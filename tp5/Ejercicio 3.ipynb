{
 "cells": [
  {
   "cell_type": "markdown",
   "metadata": {},
   "source": [
    "# El problema de la mochila\n",
    "\n",
    "Se tiene una mochila y un conjunto de artículos con diferente peso y valor. Se intenta determinar que artículos se pueden colocar adentro de la mochila de manera que no se sobrepase el límite de peso de la mochila maximizando el valor total. \n",
    "\n",
    "Resolver el problema agregando heurística para los siguientes artículos y un límite de 30kg:\n",
    "\n",
    "<table style=\"font-size:16px\">\n",
    "    <tr>\n",
    "        <th>Item</th><td>Valor</td><td>Peso</td>\n",
    "    </tr>\n",
    "    <tr>\n",
    "        <th>A</th><td>4</td><td>12</td>\n",
    "    </tr>\n",
    "    <tr>\n",
    "        <th>B</th><td>2</td><td>2</td>\n",
    "    </tr>\n",
    "    <tr>\n",
    "        <th>C</th><td>10</td><td>4</td>\n",
    "    </tr>\n",
    "    <tr>\n",
    "        <th>D</th><td>1</td><td>1</td>\n",
    "    </tr>\n",
    "    <tr>\n",
    "        <th>E</th><td>5</td><td>15</td>\n",
    "    </tr>\n",
    "    <tr>\n",
    "        <th>F</th><td>3</td><td>2</td>\n",
    "    </tr>\n",
    "    <tr>\n",
    "        <th>G</th><td>14</td><td>7</td>\n",
    "    </tr>\n",
    "    <tr>\n",
    "        <th>H</th><td>4</td><td>10</td>\n",
    "    </tr>\n",
    "</table>"
   ]
  },
  {
   "cell_type": "code",
   "execution_count": 60,
   "metadata": {},
   "outputs": [],
   "source": [
    "from random import randint, choice\n",
    "\n",
    "import matplotlib.pyplot as plt\n",
    "import numpy as np"
   ]
  },
  {
   "cell_type": "markdown",
   "metadata": {},
   "source": [
    "## Codificación\n",
    "\n",
    "- Definir como se codificará el problema"
   ]
  },
  {
   "cell_type": "markdown",
   "metadata": {},
   "source": [
    "Funcion objetivo (Funcion Fitness):\n",
    "    Z = 4x1 + 2x2 + 10x3 + x4 + 5x5 + 3x6 + 14x7 + 4x8\n",
    "    \n",
    "Condiciones del peso:\n",
    "    12x1 + 2x2 + 4x3 + x4 + 15x5 + 2x6 + 7x7 + 10x8\n",
    "    La sumatoria de los pesos no puede ser mayor a 30..."
   ]
  },
  {
   "cell_type": "code",
   "execution_count": 61,
   "metadata": {
    "collapsed": false,
    "pycharm": {
     "name": "#%%\n"
    }
   },
   "outputs": [],
   "source": [
    "initial_population = [\n",
    "    [randint(0, 1) * 12,\n",
    "     randint(0, 1) * 2,\n",
    "     randint(0, 1) * 4,\n",
    "     randint(0, 1) * 1,\n",
    "     randint(0, 1) * 15,\n",
    "     randint(0, 1) * 2,\n",
    "     randint(0, 1) * 7,\n",
    "     randint(0, 1) * 10]\n",
    "    for _ in range(50)\n",
    "]\n",
    "\n",
    "population = [i for i in initial_population if sum(i) <= 30]\n"
   ]
  },
  {
   "cell_type": "markdown",
   "metadata": {},
   "source": [
    "## Adaptación\n",
    "\n",
    "- Definir como se calculará la adaptación de un individuo\n",
    "- ¿Existen estados que deben ser penalizados?\n",
    "- Se debera penalizar, aqullos estados en que el peso supere a los 30 kilogramos"
   ]
  },
  {
   "cell_type": "code",
   "execution_count": 62,
   "metadata": {},
   "outputs": [],
   "source": [
    "def adaptation_function():\n",
    "    return [\n",
    "        ((i[0] * 4) +\n",
    "         (i[1] * 2) +\n",
    "         (i[2] * 10) +\n",
    "         (i[3] * 1) +\n",
    "         (i[4] * 5) +\n",
    "         (i[5] * 3) +\n",
    "         (i[6] * 14) +\n",
    "         (i[7] * 4)) for i in population\n",
    "    ]"
   ]
  },
  {
   "cell_type": "markdown",
   "metadata": {},
   "source": [
    "## Selección"
   ]
  },
  {
   "cell_type": "code",
   "execution_count": 63,
   "metadata": {},
   "outputs": [],
   "source": [
    "def probability(fitness):\n",
    "    def rank():\n",
    "        array = np.array(fitness)\n",
    "        temp = array.argsort()\n",
    "        return (np.arange(len(array))[temp.argsort()]).tolist()\n",
    "    ranking = rank()\n",
    "\n",
    "    return [((ranking[i]) / sum(ranking)) for i in range(len(population))]\n",
    "\n",
    "\n",
    "def select_parents(parents_num, population_size, probability_list):\n",
    "    population_aux = range(population_size)\n",
    "    parent_indexs = np.random.choice(population_aux,size=parents_num, replace=False, p=probability_list)\n",
    "    return [population[i] for i in parent_indexs]"
   ]
  },
  {
   "cell_type": "markdown",
   "metadata": {},
   "source": [
    "## Cruza"
   ]
  },
  {
   "cell_type": "code",
   "execution_count": 64,
   "metadata": {},
   "outputs": [],
   "source": [
    "def crossover(parents):\n",
    "    parents = np.array(parents)\n",
    "    childrens = np.empty((len(parents),parents.shape[1]))\n",
    "\n",
    "    crossover_point = np.uint8(parents.shape[0]/2)\n",
    "\n",
    "    for k in range(len(parents)):\n",
    "        parent1_idx = k%parents.shape[0]\n",
    "        parent2_idx = (k+1)%parents.shape[0]\n",
    "\n",
    "        childrens[k, 0:crossover_point] = parents[parent1_idx, 0:crossover_point]\n",
    "        childrens[k, crossover_point:] = parents[parent2_idx, crossover_point:]\n",
    "\n",
    "    return childrens"
   ]
  },
  {
   "cell_type": "markdown",
   "metadata": {},
   "source": [
    "## Mutación"
   ]
  },
  {
   "cell_type": "code",
   "execution_count": 65,
   "metadata": {},
   "outputs": [],
   "source": [
    "def mutation(childrens):\n",
    "    for index, children in enumerate(childrens):\n",
    "        random_index = choice(range(8)) # Poblacion: 8 => Cantidad de elemtos\n",
    "        childrens[index][random_index] = randint(0, 30)\n",
    "    return childrens"
   ]
  },
  {
   "cell_type": "markdown",
   "metadata": {},
   "source": [
    "# Algoritmo"
   ]
  },
  {
   "cell_type": "code",
   "execution_count": 66,
   "metadata": {},
   "outputs": [],
   "source": [
    "population_len = len(population)\n",
    "best_adaptation = list()\n",
    "generation = list()\n",
    "\n",
    "for i in range(200):\n",
    "    fitness = adaptation_function()\n",
    "    probability_list = probability(fitness)\n",
    "    selected_parents = select_parents(population_len // 2, population_len, probability_list)\n",
    "\n",
    "    childrens = crossover(selected_parents)\n",
    "    childrens = mutation(childrens)\n",
    "\n",
    "    selected_parents.extend(childrens.tolist())\n",
    "    new_population = selected_parents\n",
    "\n",
    "    population_len = len(new_population)\n",
    "    population = new_population\n",
    "    best_adaptation.append(max(fitness))\n",
    "    generation.append(i)"
   ]
  },
  {
   "cell_type": "markdown",
   "metadata": {
    "collapsed": false
   },
   "source": [
    "# Grafico"
   ]
  },
  {
   "cell_type": "code",
   "execution_count": 67,
   "metadata": {
    "collapsed": false,
    "pycharm": {
     "name": "#%%\n"
    }
   },
   "outputs": [
    {
     "data": {
      "image/png": "[encoded data removed]",
      "text/plain": [
       "<Figure size 432x288 with 1 Axes>"
      ]
     },
     "metadata": {
      "needs_background": "light"
     },
     "output_type": "display_data"
    }
   ],
   "source": [
    "fig, ax = plt.subplots()\n",
    "ax.plot(generation, best_adaptation, 'b')\n",
    "ax.set_ylabel('Fitness')\n",
    "ax.set_xlabel('Generation')\n",
    "plt.show()"
   ]
  }
 ],
 "metadata": {
  "interpreter": {
   "hash": "13ed38413f571d52dd630c4dab4375c85c091b16ee7750d5788fcca33a2e7b54"
  },
  "kernelspec": {
   "display_name": "Python 3.9.0 64-bit",
   "name": "python3"
  },
  "language_info": {
   "codemirror_mode": {
    "name": "ipython",
    "version": 3
   },
   "file_extension": ".py",
   "mimetype": "text/x-python",
   "name": "python",
   "nbconvert_exporter": "python",
   "pygments_lexer": "ipython3",
   "version": "3.9.0"
  }
 },
 "nbformat": 4,
 "nbformat_minor": 4
}
