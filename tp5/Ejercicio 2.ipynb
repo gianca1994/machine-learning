{
 "cells": [
  {
   "cell_type": "markdown",
   "metadata": {},
   "source": [
    "## Problema del viajante\n",
    "\n",
    "Resolver el problema del viajante utilizando algoritmos genéticos. \n",
    "\n",
    "- ¿Es posible aproximarse al resultado?"
   ]
  },
  {
   "cell_type": "markdown",
   "metadata": {},
   "source": [
    "## Codificación\n",
    "\n",
    "- Definir como se codificará el problema"
   ]
  },
  {
   "cell_type": "markdown",
   "metadata": {},
   "source": [
    "- San Rafael X1\n",
    "- El Nihuil X2\n",
    "- El sosneado X3\n",
    "- Villa Atuel X4\n",
    "- Jaime Prats X5\n",
    "- Las Malvinas X6\n",
    "- Salto de las Rosas X7\n",
    "- Rama caída X8\n",
    "- Monte Coman X9\n",
    "- Gral. Alvear X10\n",
    "- Rincón del Atuel X11\n",
    "\n",
    "Ciudades = 11\n",
    "N = 10"
   ]
  },
  {
   "cell_type": "code",
   "execution_count": 1,
   "metadata": {},
   "outputs": [],
   "source": [
    "import itertools\n",
    "import random\n",
    "import matplotlib.pyplot as plt\n",
    "import numpy as np"
   ]
  },
  {
   "cell_type": "markdown",
   "metadata": {},
   "source": [
    "## Adaptación\n",
    "\n",
    "- Definir como se calculará la adaptación de un individuo\n",
    "- ¿Existen estados que deben ser penalizados?\n"
   ]
  },
  {
   "cell_type": "code",
   "execution_count": 2,
   "metadata": {},
   "outputs": [],
   "source": [
    "kms = [\n",
    "    [0, 72.7, 137, 59.1, 70.1, 36.6, 18.9, 8.7, 50.7, 84.8, 37.6],\n",
    "    [72.7, 0, 107.8, 108, 120, 135, 97.4, 84, 69.7, 122, 35],\n",
    "    [137, 108, 0, 184, 200, 162, 148, 134, 186, 214, 99.1],\n",
    "    [54.3, 120, 184, 0, 16.7, 45.2, 35.6, 54.5, 47.1, 31.4, 84.7], \n",
    "    [70.1, 136, 200, 16.9, 0, 60.8, 51.3, 70.2, 41.2, 15, 64.6], \n",
    "    [36, 97.7, 162, 45.6, 60.8, 0, 18.8, 29.7, 57.8, 75.4, 62.6], \n",
    "    [18.7, 84.2, 148, 36, 51.2, 18.8, 0, 18.9, 43, 65.8, 49.1], \n",
    "    [8.7, 69.8, 134, 54.9, 73.5, 29.6, 18.8, 0, 56.4, 84.7, 34.7], \n",
    "    [50.5, 122, 186, 47.2, 41.3, 52.8, 43, 56.3, 0, 48, 86.5], \n",
    "    [84.8, 122, 214, 31.4, 15, 75.4, 65.8, 84.7, 48, 0, 115], \n",
    "    [37.6, 35.2, 99.1, 85.1, 100, 62.5, 49.1, 34.7, 86.6, 115, 0]\n",
    "]\n",
    "\n",
    "cities = [\n",
    "    \"San Rafael\",\n",
    "    \"El Nihuil\",\n",
    "    \"El sosneado\",\n",
    "    \"Villa Atuel\",\n",
    "    \"Jaime Prats\",\n",
    "    \"Las Malvinas\",\n",
    "    \"Salto de las Rosas\",\n",
    "    \"Rama caída\",\n",
    "    \"Monte Coman\",\n",
    "    \"General Alvear\",\n",
    "    \"Rincón del Atuel\"\n",
    "]\n",
    "aux = [\n",
    "    \"El Nihuil\",\n",
    "    \"El sosneado\",\n",
    "    \"Villa Atuel\",\n",
    "    \"Jaime Prats\",\n",
    "    \"Las Malvinas\",\n",
    "    \"Salto de las Rosas\",\n",
    "    \"Rama caída\",\n",
    "    \"Monte Coman\",\n",
    "    \"General Alvear\",\n",
    "    \"Rincón del Atuel\"\n",
    "]\n",
    "\n",
    "best_adaptation = []\n",
    "generation = []\n",
    "\n",
    "population = list()\n",
    "for i in range(10):\n",
    "    population.append(list(np.random.choice(aux,replace=False,size=10)))"
   ]
  },
  {
   "cell_type": "code",
   "execution_count": 3,
   "metadata": {},
   "outputs": [],
   "source": [
    "def adaptation_function(population):\n",
    "    fitness = []\n",
    "    for pop in population:\n",
    "        summ = 0\n",
    "        summ += kms[0][cities.index(pop[0])]\n",
    "        for v, w in zip(pop[:-1],pop[1:]):\n",
    "            summ += kms[cities.index(v)][cities.index(w)]\n",
    "        summ += kms[0][cities.index(pop[-1])]\n",
    "        fitness.append(-summ)\n",
    "        \n",
    "    return fitness"
   ]
  },
  {
   "cell_type": "markdown",
   "metadata": {},
   "source": [
    "## Selección por torneo"
   ]
  },
  {
   "cell_type": "code",
   "execution_count": 4,
   "metadata": {},
   "outputs": [],
   "source": [
    "def tournament(fitness, population):\n",
    "    parents = list()\n",
    "    fitness_copy = fitness\n",
    "    \n",
    "    while len(fitness) > 0:\n",
    "        selection1 = random.choice(fitness)\n",
    "        selection2 = random.choice(fitness)\n",
    "        \n",
    "        if selection1 == selection2:\n",
    "            continue\n",
    "            \n",
    "        if selection1 > selection2:\n",
    "            parents.append(population[fitness_copy.index(selection1)])\n",
    "        else:\n",
    "            parents.append(population[fitness_copy.index(selection2)])\n",
    "        \n",
    "        fitness.remove(selection1)\n",
    "        fitness.remove(selection2)\n",
    "    \n",
    "    return parents"
   ]
  },
  {
   "cell_type": "markdown",
   "metadata": {},
   "source": [
    "## Cruza uniforme"
   ]
  },
  {
   "cell_type": "code",
   "execution_count": 5,
   "metadata": {},
   "outputs": [],
   "source": [
    "def crosses(parents):\n",
    "    childs = list()\n",
    "    merge = list(zip(parents,parents[1:]))[::2]\n",
    "    \n",
    "    split = np.random.choice(10 - 1, random.randint(1, 9) - 1, replace=False) + 1\n",
    "    split.sort()\n",
    "    \n",
    "    for parents1, parents2 in merge:\n",
    "        child_one, child_two = list(), list()\n",
    "        parents_one, parents_two = np.split(parents1, split), np.split(parents2, split)\n",
    "        parents_one_size = len(parents_one)\n",
    "        add_parents = False\n",
    "        for num in range(parents_one_size):\n",
    "            if add_parents:\n",
    "                child_one.append(parents_two[num])\n",
    "                child_two.append(parents_one[num])\n",
    "                add_parents = False\n",
    "            else:\n",
    "                child_one.append(parents_one[num])\n",
    "                child_two.append(parents_two[num])\n",
    "                add_parents = True\n",
    "        \n",
    "    \n",
    "        childs.append(list(itertools.chain.from_iterable(child_one)))\n",
    "        childs.append(list(itertools.chain.from_iterable(child_two)))\n",
    "    return childs"
   ]
  },
  {
   "cell_type": "markdown",
   "metadata": {},
   "source": [
    "## Mutación"
   ]
  },
  {
   "cell_type": "code",
   "execution_count": 6,
   "metadata": {},
   "outputs": [],
   "source": [
    "def mutation(childs_selected):\n",
    "    mutated_child = list()\n",
    "\n",
    "    for i in childs_selected:\n",
    "        childs_aux = i\n",
    "        cities_aux = aux\n",
    "        cities_not_repeat = list(dict.fromkeys(i))\n",
    "        cities_repeat = [j for j, k in enumerate(cities_aux) if i.count(k) > 1]\n",
    "        for j in i:\n",
    "            cities_aux = list(filter((j).__ne__, cities_aux))\n",
    "        for i in cities_repeat:\n",
    "            childs_aux.insert(i, cities_not_repeat.pop(0))\n",
    "\n",
    "        mutated_child.append(childs_aux)\n",
    "    return mutated_child"
   ]
  },
  {
   "cell_type": "markdown",
   "metadata": {},
   "source": [
    "# Algoritmo"
   ]
  },
  {
   "cell_type": "code",
   "execution_count": 7,
   "metadata": {},
   "outputs": [
    {
     "ename": "KeyboardInterrupt",
     "evalue": "",
     "output_type": "error",
     "traceback": [
      "\u001B[1;31m---------------------------------------------------------------------------\u001B[0m",
      "\u001B[1;31mKeyboardInterrupt\u001B[0m                         Traceback (most recent call last)",
      "\u001B[1;32m~\\AppData\\Local\\Temp/ipykernel_9296/784249072.py\u001B[0m in \u001B[0;36m<module>\u001B[1;34m\u001B[0m\n\u001B[0;32m      5\u001B[0m     \u001B[0mbest_adaptation\u001B[0m\u001B[1;33m.\u001B[0m\u001B[0mappend\u001B[0m\u001B[1;33m(\u001B[0m\u001B[0mmax\u001B[0m\u001B[1;33m(\u001B[0m\u001B[0mfitness\u001B[0m\u001B[1;33m)\u001B[0m\u001B[1;33m)\u001B[0m\u001B[1;33m\u001B[0m\u001B[1;33m\u001B[0m\u001B[0m\n\u001B[0;32m      6\u001B[0m     \u001B[0mgeneration\u001B[0m\u001B[1;33m.\u001B[0m\u001B[0mappend\u001B[0m\u001B[1;33m(\u001B[0m\u001B[0mi\u001B[0m\u001B[1;33m)\u001B[0m\u001B[1;33m\u001B[0m\u001B[1;33m\u001B[0m\u001B[0m\n\u001B[1;32m----> 7\u001B[1;33m     \u001B[0mparents\u001B[0m \u001B[1;33m=\u001B[0m \u001B[0mtournament\u001B[0m\u001B[1;33m(\u001B[0m\u001B[0mfitness\u001B[0m\u001B[1;33m,\u001B[0m \u001B[0mpopulation\u001B[0m\u001B[1;33m)\u001B[0m\u001B[1;33m\u001B[0m\u001B[1;33m\u001B[0m\u001B[0m\n\u001B[0m\u001B[0;32m      8\u001B[0m     \u001B[0mchilds_selected\u001B[0m \u001B[1;33m=\u001B[0m \u001B[0mcrosses\u001B[0m\u001B[1;33m(\u001B[0m\u001B[0mparents\u001B[0m\u001B[1;33m)\u001B[0m\u001B[1;33m\u001B[0m\u001B[1;33m\u001B[0m\u001B[0m\n\u001B[0;32m      9\u001B[0m     \u001B[0mchilds_selected\u001B[0m \u001B[1;33m=\u001B[0m \u001B[0mmutation\u001B[0m\u001B[1;33m(\u001B[0m\u001B[0mchilds_selected\u001B[0m\u001B[1;33m)\u001B[0m\u001B[1;33m\u001B[0m\u001B[1;33m\u001B[0m\u001B[0m\n",
      "\u001B[1;32m~\\AppData\\Local\\Temp/ipykernel_9296/748000642.py\u001B[0m in \u001B[0;36mtournament\u001B[1;34m(fitness, population)\u001B[0m\n\u001B[0;32m      5\u001B[0m     \u001B[1;32mwhile\u001B[0m \u001B[0mlen\u001B[0m\u001B[1;33m(\u001B[0m\u001B[0mfitness\u001B[0m\u001B[1;33m)\u001B[0m \u001B[1;33m>\u001B[0m \u001B[1;36m0\u001B[0m\u001B[1;33m:\u001B[0m\u001B[1;33m\u001B[0m\u001B[1;33m\u001B[0m\u001B[0m\n\u001B[0;32m      6\u001B[0m         \u001B[0mselection1\u001B[0m \u001B[1;33m=\u001B[0m \u001B[0mrandom\u001B[0m\u001B[1;33m.\u001B[0m\u001B[0mchoice\u001B[0m\u001B[1;33m(\u001B[0m\u001B[0mfitness\u001B[0m\u001B[1;33m)\u001B[0m\u001B[1;33m\u001B[0m\u001B[1;33m\u001B[0m\u001B[0m\n\u001B[1;32m----> 7\u001B[1;33m         \u001B[0mselection2\u001B[0m \u001B[1;33m=\u001B[0m \u001B[0mrandom\u001B[0m\u001B[1;33m.\u001B[0m\u001B[0mchoice\u001B[0m\u001B[1;33m(\u001B[0m\u001B[0mfitness\u001B[0m\u001B[1;33m)\u001B[0m\u001B[1;33m\u001B[0m\u001B[1;33m\u001B[0m\u001B[0m\n\u001B[0m\u001B[0;32m      8\u001B[0m \u001B[1;33m\u001B[0m\u001B[0m\n\u001B[0;32m      9\u001B[0m         \u001B[1;32mif\u001B[0m \u001B[0mselection1\u001B[0m \u001B[1;33m==\u001B[0m \u001B[0mselection2\u001B[0m\u001B[1;33m:\u001B[0m\u001B[1;33m\u001B[0m\u001B[1;33m\u001B[0m\u001B[0m\n",
      "\u001B[1;32mc:\\users\\gianca\\appdata\\local\\programs\\python\\python39\\lib\\random.py\u001B[0m in \u001B[0;36mchoice\u001B[1;34m(self, seq)\u001B[0m\n\u001B[0;32m    344\u001B[0m         \u001B[1;34m\"\"\"Choose a random element from a non-empty sequence.\"\"\"\u001B[0m\u001B[1;33m\u001B[0m\u001B[1;33m\u001B[0m\u001B[0m\n\u001B[0;32m    345\u001B[0m         \u001B[1;31m# raises IndexError if seq is empty\u001B[0m\u001B[1;33m\u001B[0m\u001B[1;33m\u001B[0m\u001B[1;33m\u001B[0m\u001B[0m\n\u001B[1;32m--> 346\u001B[1;33m         \u001B[1;32mreturn\u001B[0m \u001B[0mseq\u001B[0m\u001B[1;33m[\u001B[0m\u001B[0mself\u001B[0m\u001B[1;33m.\u001B[0m\u001B[0m_randbelow\u001B[0m\u001B[1;33m(\u001B[0m\u001B[0mlen\u001B[0m\u001B[1;33m(\u001B[0m\u001B[0mseq\u001B[0m\u001B[1;33m)\u001B[0m\u001B[1;33m)\u001B[0m\u001B[1;33m]\u001B[0m\u001B[1;33m\u001B[0m\u001B[1;33m\u001B[0m\u001B[0m\n\u001B[0m\u001B[0;32m    347\u001B[0m \u001B[1;33m\u001B[0m\u001B[0m\n\u001B[0;32m    348\u001B[0m     \u001B[1;32mdef\u001B[0m \u001B[0mshuffle\u001B[0m\u001B[1;33m(\u001B[0m\u001B[0mself\u001B[0m\u001B[1;33m,\u001B[0m \u001B[0mx\u001B[0m\u001B[1;33m,\u001B[0m \u001B[0mrandom\u001B[0m\u001B[1;33m=\u001B[0m\u001B[1;32mNone\u001B[0m\u001B[1;33m)\u001B[0m\u001B[1;33m:\u001B[0m\u001B[1;33m\u001B[0m\u001B[1;33m\u001B[0m\u001B[0m\n",
      "\u001B[1;32mc:\\users\\gianca\\appdata\\local\\programs\\python\\python39\\lib\\random.py\u001B[0m in \u001B[0;36m_randbelow_with_getrandbits\u001B[1;34m(self, n)\u001B[0m\n\u001B[0;32m    235\u001B[0m                 \u001B[1;32mbreak\u001B[0m\u001B[1;33m\u001B[0m\u001B[1;33m\u001B[0m\u001B[0m\n\u001B[0;32m    236\u001B[0m \u001B[1;33m\u001B[0m\u001B[0m\n\u001B[1;32m--> 237\u001B[1;33m     \u001B[1;32mdef\u001B[0m \u001B[0m_randbelow_with_getrandbits\u001B[0m\u001B[1;33m(\u001B[0m\u001B[0mself\u001B[0m\u001B[1;33m,\u001B[0m \u001B[0mn\u001B[0m\u001B[1;33m)\u001B[0m\u001B[1;33m:\u001B[0m\u001B[1;33m\u001B[0m\u001B[1;33m\u001B[0m\u001B[0m\n\u001B[0m\u001B[0;32m    238\u001B[0m         \u001B[1;34m\"Return a random int in the range [0,n).  Returns 0 if n==0.\"\u001B[0m\u001B[1;33m\u001B[0m\u001B[1;33m\u001B[0m\u001B[0m\n\u001B[0;32m    239\u001B[0m \u001B[1;33m\u001B[0m\u001B[0m\n",
      "\u001B[1;31mKeyboardInterrupt\u001B[0m: "
     ]
    }
   ],
   "source": [
    "for i in range(100):\n",
    "    fitness = adaptation_function(population)\n",
    "    best_adaptation.append(max(fitness))\n",
    "    generation.append(i)\n",
    "    parents = tournament(fitness, population)\n",
    "    childs_selected = crosses(parents)\n",
    "    childs_selected = mutation(childs_selected)\n",
    "    parents.extend(childs_selected)\n",
    "    population = parents"
   ]
  },
  {
   "cell_type": "markdown",
   "metadata": {
    "pycharm": {
     "name": "#%% md\n"
    }
   },
   "source": [
    "# Grafico"
   ]
  },
  {
   "cell_type": "code",
   "execution_count": null,
   "outputs": [],
   "source": [
    "fig, ax = plt.subplots()\n",
    "ax.plot(generation, best_adaptation, 'b')\n",
    "ax.set_ylabel('Fitness')\n",
    "ax.set_xlabel('Generation')\n",
    "plt.show()\n",
    "\n"
   ],
   "metadata": {
    "collapsed": false,
    "pycharm": {
     "name": "#%%\n"
    }
   }
  }
 ],
 "metadata": {
  "kernelspec": {
   "display_name": "Python 3",
   "language": "python",
   "name": "python3"
  },
  "language_info": {
   "codemirror_mode": {
    "name": "ipython",
    "version": 3
   },
   "file_extension": ".py",
   "mimetype": "text/x-python",
   "name": "python",
   "nbconvert_exporter": "python",
   "pygments_lexer": "ipython3",
   "version": "3.8.8"
  }
 },
 "nbformat": 4,
 "nbformat_minor": 4
}