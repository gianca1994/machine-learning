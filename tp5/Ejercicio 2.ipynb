{
 "cells": [
  {
   "cell_type": "markdown",
   "source": [
    "## Problema del viajante\n",
    "\n",
    "Resolver el problema del viajante utilizando algoritmos genéticos. \n",
    "\n",
    "- ¿Es posible aproximarse al resultado?"
   ],
   "metadata": {}
  },
  {
   "cell_type": "markdown",
   "source": [
    "## Codificación\n",
    "\n",
    "- Definir como se codificará el problema"
   ],
   "metadata": {}
  },
  {
   "cell_type": "markdown",
   "source": [
    "- San Rafael X1\n",
    "- El Nihuil X2\n",
    "- El sosneado X3\n",
    "- Villa Atuel X4\n",
    "- Jaime Prats X5\n",
    "- Las Malvinas X6\n",
    "- Salto de las Rosas X7\n",
    "- Rama caída X8\n",
    "- Monte Coman X9\n",
    "- Gral. Alvear X10\n",
    "- Rincón del Atuel X11\n",
    "\n",
    "Ciudades = 11\n",
    "N = 10"
   ],
   "metadata": {}
  },
  {
   "cell_type": "code",
   "execution_count": 1,
   "source": [
    "import itertools\r\n",
    "import random\r\n",
    "import matplotlib.pyplot as plt\r\n",
    "import numpy as np"
   ],
   "outputs": [],
   "metadata": {}
  },
  {
   "cell_type": "markdown",
   "source": [
    "## Adaptación\n",
    "\n",
    "- Definir como se calculará la adaptación de un individuo\n",
    "- ¿Existen estados que deben ser penalizados?\n"
   ],
   "metadata": {}
  },
  {
   "cell_type": "code",
   "execution_count": 2,
   "source": [
    "kms = [\r\n",
    "    [0, 72.7, 137, 59.1, 70.1, 36.6, 18.9, 8.7, 50.7, 84.8, 37.6],\r\n",
    "    [72.7, 0, 107.8, 108, 120, 135, 97.4, 84, 69.7, 122, 35],\r\n",
    "    [137, 108, 0, 184, 200, 162, 148, 134, 186, 214, 99.1],\r\n",
    "    [54.3, 120, 184, 0, 16.7, 45.2, 35.6, 54.5, 47.1, 31.4, 84.7], \r\n",
    "    [70.1, 136, 200, 16.9, 0, 60.8, 51.3, 70.2, 41.2, 15, 64.6], \r\n",
    "    [36, 97.7, 162, 45.6, 60.8, 0, 18.8, 29.7, 57.8, 75.4, 62.6], \r\n",
    "    [18.7, 84.2, 148, 36, 51.2, 18.8, 0, 18.9, 43, 65.8, 49.1], \r\n",
    "    [8.7, 69.8, 134, 54.9, 73.5, 29.6, 18.8, 0, 56.4, 84.7, 34.7], \r\n",
    "    [50.5, 122, 186, 47.2, 41.3, 52.8, 43, 56.3, 0, 48, 86.5], \r\n",
    "    [84.8, 122, 214, 31.4, 15, 75.4, 65.8, 84.7, 48, 0, 115], \r\n",
    "    [37.6, 35.2, 99.1, 85.1, 100, 62.5, 49.1, 34.7, 86.6, 115, 0]\r\n",
    "]\r\n",
    "\r\n",
    "cities = [\r\n",
    "    \"San Rafael\",\r\n",
    "    \"El Nihuil\",\r\n",
    "    \"El sosneado\",\r\n",
    "    \"Villa Atuel\",\r\n",
    "    \"Jaime Prats\",\r\n",
    "    \"Las Malvinas\",\r\n",
    "    \"Salto de las Rosas\",\r\n",
    "    \"Rama caída\",\r\n",
    "    \"Monte Coman\",\r\n",
    "    \"General Alvear\",\r\n",
    "    \"Rincón del Atuel\"\r\n",
    "]\r\n",
    "aux = [\r\n",
    "    \"El Nihuil\",\r\n",
    "    \"El sosneado\",\r\n",
    "    \"Villa Atuel\",\r\n",
    "    \"Jaime Prats\",\r\n",
    "    \"Las Malvinas\",\r\n",
    "    \"Salto de las Rosas\",\r\n",
    "    \"Rama caída\",\r\n",
    "    \"Monte Coman\",\r\n",
    "    \"General Alvear\",\r\n",
    "    \"Rincón del Atuel\"\r\n",
    "]\r\n",
    "\r\n",
    "best_adaptation = []\r\n",
    "generation = []\r\n",
    "\r\n",
    "population = list()\r\n",
    "for i in range(150):\r\n",
    "    population.append(list(np.random.choice(aux,replace=False,size=10)))"
   ],
   "outputs": [],
   "metadata": {}
  },
  {
   "cell_type": "code",
   "execution_count": 3,
   "source": [
    "def adaptation_function(population):\r\n",
    "    fitness = []\r\n",
    "    for pop in population:\r\n",
    "        summ = 0\r\n",
    "        summ += kms[0][cities.index(pop[0])]\r\n",
    "        for v, w in zip(pop[:-1],pop[1:]):\r\n",
    "            summ += kms[cities.index(v)][cities.index(w)]\r\n",
    "        summ += kms[0][cities.index(pop[-1])]\r\n",
    "        fitness.append(-summ)\r\n",
    "        \r\n",
    "    return fitness"
   ],
   "outputs": [],
   "metadata": {}
  },
  {
   "cell_type": "markdown",
   "source": [
    "## Selección por torneo"
   ],
   "metadata": {}
  },
  {
   "cell_type": "code",
   "execution_count": 4,
   "source": [
    "def tournament(fitness, population):\r\n",
    "    parents = list()\r\n",
    "    fitness_copy, fitness_test = fitness, fitness\r\n",
    "    \r\n",
    "    while True:\r\n",
    "        if not len(fitness_test) >= 2:\r\n",
    "            break\r\n",
    "        selection1,selection2 = np.random.choice(fitness_test, size = 2, replace = False)\r\n",
    "\r\n",
    "        if selection1 > selection2:\r\n",
    "            parents.append(population[fitness_copy.index(selection1)])\r\n",
    "        elif selection1 < selection2:\r\n",
    "            parents.append(population[fitness_copy.index(selection2)])\r\n",
    "        else:\r\n",
    "            parents.append(population[fitness_copy.index(random.choice([selection1, selection2]))])\r\n",
    "\r\n",
    "        fitness_test.remove(selection1)\r\n",
    "        fitness_test.remove(selection2)\r\n",
    "        \r\n",
    "    return parents"
   ],
   "outputs": [],
   "metadata": {}
  },
  {
   "cell_type": "markdown",
   "source": [
    "## Cruza uniforme"
   ],
   "metadata": {}
  },
  {
   "cell_type": "code",
   "execution_count": 5,
   "source": [
    "def crosses(parents):\r\n",
    "    childs = list()\r\n",
    "    merge = list(zip(parents,parents[1:]))[::2]\r\n",
    "    \r\n",
    "    split = np.random.choice(10 - 1, random.randint(1, 9) - 1, replace=False) + 1\r\n",
    "    split.sort()\r\n",
    "    \r\n",
    "    for parents1, parents2 in merge:\r\n",
    "        child_one, child_two = list(), list()\r\n",
    "        parents_one, parents_two = np.split(parents1, split), np.split(parents2, split)\r\n",
    "        parents_one_size = len(parents_one)\r\n",
    "        add_parents = False\r\n",
    "        for num in range(parents_one_size):\r\n",
    "            if add_parents:\r\n",
    "                child_one.append(parents_two[num])\r\n",
    "                child_two.append(parents_one[num])\r\n",
    "                add_parents = False\r\n",
    "            else:\r\n",
    "                child_one.append(parents_one[num])\r\n",
    "                child_two.append(parents_two[num])\r\n",
    "                add_parents = True\r\n",
    "        \r\n",
    "    \r\n",
    "        childs.append(list(itertools.chain.from_iterable(child_one)))\r\n",
    "        childs.append(list(itertools.chain.from_iterable(child_two)))\r\n",
    "    return childs"
   ],
   "outputs": [],
   "metadata": {}
  },
  {
   "cell_type": "markdown",
   "source": [
    "## Mutación"
   ],
   "metadata": {}
  },
  {
   "cell_type": "code",
   "execution_count": 6,
   "source": [
    "def mutation(childs_selected):\r\n",
    "    mutated_child = list()\r\n",
    "\r\n",
    "    for i in childs_selected:\r\n",
    "        childs_aux = i\r\n",
    "        cities_aux = aux\r\n",
    "        cities_not_repeat = list(dict.fromkeys(i))\r\n",
    "        cities_repeat = [j for j, k in enumerate(cities_aux) if i.count(k) > 1]\r\n",
    "        for j in i:\r\n",
    "            cities_aux = list(filter((j).__ne__, cities_aux))\r\n",
    "        for i in cities_repeat:\r\n",
    "            childs_aux.insert(i, cities_not_repeat.pop(0))\r\n",
    "\r\n",
    "        mutated_child.append(childs_aux)\r\n",
    "    return mutated_child"
   ],
   "outputs": [],
   "metadata": {}
  },
  {
   "cell_type": "markdown",
   "source": [
    "# Algoritmo"
   ],
   "metadata": {}
  },
  {
   "cell_type": "code",
   "execution_count": 7,
   "source": [
    "for i in range(150):\r\n",
    "    fitness = adaptation_function(population)\r\n",
    "    best_adaptation.append(max(fitness))\r\n",
    "    generation.append(i)\r\n",
    "    parents = tournament(fitness, population)\r\n",
    "    childs_selected = crosses(parents)\r\n",
    "    childs_selected = mutation(childs_selected)\r\n",
    "    parents.extend(childs_selected)\r\n",
    "    population = parents"
   ],
   "outputs": [],
   "metadata": {}
  },
  {
   "cell_type": "markdown",
   "source": [
    "# Grafico"
   ],
   "metadata": {
    "pycharm": {
     "name": "#%% md\n"
    }
   }
  },
  {
   "cell_type": "code",
   "execution_count": 8,
   "source": [
    "fig, ax = plt.subplots()\r\n",
    "ax.plot(generation, best_adaptation, 'b')\r\n",
    "ax.set_ylabel('Fitness')\r\n",
    "ax.set_xlabel('Generation')\r\n",
    "plt.show()\r\n",
    "\r\n"
   ],
   "outputs": [
    {
     "output_type": "display_data",
     "data": {
      "image/png": "[encoded data removed]",
      "text/plain": [
       "<Figure size 432x288 with 1 Axes>"
      ]
     },
     "metadata": {
      "needs_background": "light"
     }
    }
   ],
   "metadata": {
    "collapsed": false,
    "pycharm": {
     "name": "#%%\n"
    }
   }
  }
 ],
 "metadata": {
  "kernelspec": {
   "name": "python3",
   "display_name": "Python 3.9.0 64-bit"
  },
  "language_info": {
   "codemirror_mode": {
    "name": "ipython",
    "version": 3
   },
   "file_extension": ".py",
   "mimetype": "text/x-python",
   "name": "python",
   "nbconvert_exporter": "python",
   "pygments_lexer": "ipython3",
   "version": "3.9.0"
  },
  "interpreter": {
   "hash": "13ed38413f571d52dd630c4dab4375c85c091b16ee7750d5788fcca33a2e7b54"
  }
 },
 "nbformat": 4,
 "nbformat_minor": 4
}