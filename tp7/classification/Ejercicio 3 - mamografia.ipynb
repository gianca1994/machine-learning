{
 "cells": [
  {
   "cell_type": "code",
   "execution_count": null,
   "metadata": {},
   "outputs": [],
   "source": [
    "import pandas as pd\n",
    "from sklearn.tree import DecisionTreeClassifier \n",
    "from sklearn.model_selection import train_test_split \n",
    "from sklearn import metrics\n",
    "from sklearn.tree import export_graphviz\n",
    "from IPython.display import Image  \n",
    "import pydotplus\n",
    "import numpy as np\n",
    "from io import StringIO\n",
    "import matplotlib.pyplot as plt\n",
    "from sklearn import preprocessing\n",
    "from sklearn.preprocessing import LabelEncoder"
   ]
  },
  {
   "cell_type": "code",
   "execution_count": null,
   "metadata": {},
   "outputs": [],
   "source": [
    "dataframe = pd.read_csv(\"data/mammogram.csv\")\n",
    "dataframe.head()"
   ]
  },
  {
   "cell_type": "code",
   "execution_count": null,
   "metadata": {},
   "outputs": [],
   "source": [
    "dataframe"
   ]
  },
  {
   "cell_type": "code",
   "execution_count": null,
   "metadata": {},
   "outputs": [],
   "source": [
    "class_names = list(np.unique(dataframe.values[:,5]))\n",
    "class_names"
   ]
  },
  {
   "cell_type": "code",
   "execution_count": null,
   "metadata": {},
   "outputs": [],
   "source": [
    "dataframe.drop(dataframe[\n",
    "        (dataframe.BI_RADS_assessment == -100000) |\n",
    "        (dataframe.age == -100000) |\n",
    "        (dataframe.shape == -100000) |\n",
    "        (dataframe.margin == -100000) |\n",
    "        (dataframe.density == -100000) |\n",
    "        (dataframe.severity == -100000)\n",
    "    ].index,\n",
    "    inplace=True\n",
    ")\n",
    "\n",
    "dataframe.drop(dataframe[\n",
    "        (dataframe.BI_RADS_assessment == 6) |\n",
    "        (dataframe.BI_RADS_assessment == 55) |\n",
    "        (dataframe.BI_RADS_assessment == 0)\n",
    "    ].index,\n",
    "    inplace=True\n",
    ")\n",
    "\n",
    "dataframe\n"
   ]
  },
  {
   "cell_type": "code",
   "execution_count": null,
   "metadata": {},
   "outputs": [],
   "source": [
    "data = dataframe.values[:,:5]\n",
    "data_columns = list(dataframe.columns.values[:5])\n",
    "\n",
    "target=dataframe.values[:,5]"
   ]
  },
  {
   "cell_type": "code",
   "execution_count": null,
   "metadata": {},
   "outputs": [],
   "source": [
    "X_train, X_test, y_train, y_test = train_test_split(data, target, test_size=0.3)\n",
    "print(X_train)"
   ]
  },
  {
   "cell_type": "code",
   "execution_count": null,
   "metadata": {},
   "outputs": [],
   "source": [
    "classification = DecisionTreeClassifier(\n",
    "    criterion=\"entropy\",\n",
    "    max_depth=3\n",
    ")\n",
    "\n",
    "classification = classification.fit(X_train, y_train)\n",
    "y_pred = classification.predict(X_test)\n"
   ]
  },
  {
   "cell_type": "code",
   "execution_count": null,
   "metadata": {},
   "outputs": [],
   "source": [
    "dataframe[\"severity\"] = [\"True\" if i == 1 else \"False\" for i in dataframe[\"severity\"]]\n",
    "dataframe[\"severity\"]"
   ]
  },
  {
   "cell_type": "code",
   "execution_count": null,
   "metadata": {},
   "outputs": [],
   "source": [
    "accuracy = metrics.accuracy_score(y_test, y_pred)\n",
    "print(f\"The accuracy is of: {accuracy}\")\n",
    "\n",
    "disp = metrics.plot_confusion_matrix(classification, X_test, y_test,cmap=plt.cm.Blues)\n",
    "disp.ax_.set_title('Confusion')\n",
    "\n",
    "plt.show()"
   ]
  },
  {
   "cell_type": "code",
   "execution_count": null,
   "metadata": {},
   "outputs": [],
   "source": [
    "class_names = [\"True\", \"False\"]\n",
    "\n",
    "dot_data = StringIO()\n",
    "\n",
    "export_graphviz(\n",
    "    classification, out_file=dot_data,\n",
    "    filled=True,\n",
    "    rounded=True,\n",
    "    special_characters=True,\n",
    "    feature_names=data_columns,\n",
    "    class_names=class_names\n",
    ")\n",
    "\n",
    "graph = pydotplus.graph_from_dot_data(dot_data.getvalue())\n",
    "Image(graph.create_png())\n"
   ]
  },
  {
   "cell_type": "code",
   "execution_count": null,
   "metadata": {},
   "outputs": [],
   "source": []
  }
 ],
 "metadata": {
  "interpreter": {
   "hash": "13ed38413f571d52dd630c4dab4375c85c091b16ee7750d5788fcca33a2e7b54"
  },
  "kernelspec": {
   "display_name": "Python 3.9.0 64-bit",
   "name": "python3"
  },
  "language_info": {
   "codemirror_mode": {
    "name": "ipython",
    "version": 3
   },
   "file_extension": ".py",
   "mimetype": "text/x-python",
   "name": "python",
   "nbconvert_exporter": "python",
   "pygments_lexer": "ipython3",
   "version": "3.9.0"
  }
 },
 "nbformat": 4,
 "nbformat_minor": 5
}
